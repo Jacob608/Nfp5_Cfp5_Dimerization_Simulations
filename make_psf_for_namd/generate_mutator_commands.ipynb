{
 "cells": [
  {
   "cell_type": "markdown",
   "metadata": {},
   "source": [
    "Jacob Graham\n",
    "Sinan Keten's Computational Nanodynamics Laboratory"
   ]
  },
  {
   "cell_type": "code",
   "execution_count": 33,
   "metadata": {},
   "outputs": [],
   "source": [
    "import pandas as pd"
   ]
  },
  {
   "cell_type": "code",
   "execution_count": 34,
   "metadata": {},
   "outputs": [],
   "source": [
    "df = pd.read_excel('library_44_nhalfmfps.xlsx', sheet_name='For Simulations')"
   ]
  },
  {
   "cell_type": "code",
   "execution_count": 35,
   "metadata": {},
   "outputs": [
    {
     "data": {
      "text/html": [
       "<div>\n",
       "<style scoped>\n",
       "    .dataframe tbody tr th:only-of-type {\n",
       "        vertical-align: middle;\n",
       "    }\n",
       "\n",
       "    .dataframe tbody tr th {\n",
       "        vertical-align: top;\n",
       "    }\n",
       "\n",
       "    .dataframe thead th {\n",
       "        text-align: right;\n",
       "    }\n",
       "</style>\n",
       "<table border=\"1\" class=\"dataframe\">\n",
       "  <thead>\n",
       "    <tr style=\"text-align: right;\">\n",
       "      <th></th>\n",
       "      <th>Name</th>\n",
       "      <th>Sequence</th>\n",
       "    </tr>\n",
       "  </thead>\n",
       "  <tbody>\n",
       "    <tr>\n",
       "      <th>0</th>\n",
       "      <td>L1</td>\n",
       "      <td>SHHYKPGYYPGNYYHYHFHGFYHGSGYHGGYKGKYY</td>\n",
       "    </tr>\n",
       "    <tr>\n",
       "      <th>1</th>\n",
       "      <td>L2</td>\n",
       "      <td>CDDYKPGYYPGNYYHYHFHGFYHGSGYHGGYKGKYY</td>\n",
       "    </tr>\n",
       "    <tr>\n",
       "      <th>2</th>\n",
       "      <td>L3</td>\n",
       "      <td>FHYYKRGYYPGNYYHYHCHGCYHGSGYHGGYKGKYY</td>\n",
       "    </tr>\n",
       "    <tr>\n",
       "      <th>3</th>\n",
       "      <td>L4</td>\n",
       "      <td>FDHYKLGYYPGNSYHYHCRGYYHGSGYHGGYKGKYY</td>\n",
       "    </tr>\n",
       "    <tr>\n",
       "      <th>4</th>\n",
       "      <td>M1</td>\n",
       "      <td>CYDYKPGYYPGNYYHYHSRGCYHGSGYHGGYKGKYY</td>\n",
       "    </tr>\n",
       "  </tbody>\n",
       "</table>\n",
       "</div>"
      ],
      "text/plain": [
       "  Name                              Sequence\n",
       "0   L1  SHHYKPGYYPGNYYHYHFHGFYHGSGYHGGYKGKYY\n",
       "1   L2  CDDYKPGYYPGNYYHYHFHGFYHGSGYHGGYKGKYY\n",
       "2   L3  FHYYKRGYYPGNYYHYHCHGCYHGSGYHGGYKGKYY\n",
       "3   L4  FDHYKLGYYPGNSYHYHCRGYYHGSGYHGGYKGKYY\n",
       "4   M1  CYDYKPGYYPGNYYHYHSRGCYHGSGYHGGYKGKYY"
      ]
     },
     "execution_count": 35,
     "metadata": {},
     "output_type": "execute_result"
    }
   ],
   "source": [
    "df.head()"
   ]
  },
  {
   "cell_type": "code",
   "execution_count": 36,
   "metadata": {},
   "outputs": [],
   "source": [
    "wt_seq = 'SEEYKGGYYPGNTYHYHSGGSYHGSGYHGGYKGKYY' # Single letter amino acid code for wild type Nfp5 sequence."
   ]
  },
  {
   "cell_type": "code",
   "execution_count": 37,
   "metadata": {},
   "outputs": [],
   "source": [
    "amino_acid_codes = {'A':'ALA', \n",
    "                    'R':'ARG', \n",
    "                    'N':'ASN',\n",
    "                    'D':'ASP',\n",
    "                    'C':'CYS',\n",
    "                    'Q':'GLN',\n",
    "                    'E':'GLU',\n",
    "                    'G':'GLY',\n",
    "                    'H':'HSE',\n",
    "                    'I':'ILE',\n",
    "                    'L':'LEU',\n",
    "                    'K':'LYS',\n",
    "                    'M':'MET',\n",
    "                    'F':'PHE',\n",
    "                    'P':'PRO',\n",
    "                    'S':'SER',\n",
    "                    'T':'THR',\n",
    "                    'W':'TRP',\n",
    "                    'Y':'TYR',\n",
    "                    'V':'VAL'}"
   ]
  },
  {
   "cell_type": "code",
   "execution_count": 39,
   "metadata": {},
   "outputs": [],
   "source": [
    "for ind in df.index:\n",
    "    mut_seq = df['Sequence'][ind]\n",
    "    name = df['Name'][ind]\n",
    "    mut_file = open(f\"{name}_mutator_commands.txt\", \"w\")\n",
    "    mut_file.write(f\"# Mutant sequence: {mut_seq}\")\n",
    "    for a in range(len(wt_seq)):\n",
    "        if wt_seq[a] != mut_seq[a]:\n",
    "            mut_message=f'{name}: Identified mutation of {wt_seq[a]} to {mut_seq[a]} at in residue number {a+1}.'\n",
    "#             print(f'{mut_message}')\n",
    "            mut_file.write(f\"# {mut_message} \\n\")\n",
    "            # Convert single letter amino acid code to three letter amino acid code for VMD Mutator Plugin.\n",
    "            mut_resname = ''.join([amino_acid_codes[aa] for aa in mut_seq[a]])\n",
    "            mut_file.write(f\"mutator -psf ionized.psf -pdb ionized.pdb -o mutant_{name} -ressegname U -resid {a+1} -mut {mut_resname} \\n\")\n",
    "    mut_file.close()"
   ]
  },
  {
   "cell_type": "code",
   "execution_count": null,
   "metadata": {},
   "outputs": [],
   "source": []
  }
 ],
 "metadata": {
  "kernelspec": {
   "display_name": "Python 3",
   "language": "python",
   "name": "python3"
  },
  "language_info": {
   "codemirror_mode": {
    "name": "ipython",
    "version": 3
   },
   "file_extension": ".py",
   "mimetype": "text/x-python",
   "name": "python",
   "nbconvert_exporter": "python",
   "pygments_lexer": "ipython3",
   "version": "3.7.1"
  }
 },
 "nbformat": 4,
 "nbformat_minor": 2
}
